{
 "cells": [
  {
   "cell_type": "code",
   "execution_count": 1,
   "id": "9c477ef7-eebf-4678-924e-d976353a4efa",
   "metadata": {},
   "outputs": [],
   "source": [
    "import numpy as np\n",
    "import matplotlib.pyplot as plt\n",
    "from matplotlib.ticker import ScalarFormatter\n",
    "\n",
    "import renormalization as rg"
   ]
  },
  {
   "cell_type": "markdown",
   "id": "cd6a61b0-93fb-4bbb-b9d3-4b7ce29f9268",
   "metadata": {},
   "source": [
    "# Initiate a RenormalizationGroup object"
   ]
  },
  {
   "cell_type": "code",
   "execution_count": 2,
   "id": "0821cb6f-7b4c-4b2d-af78-dff79dd3f729",
   "metadata": {},
   "outputs": [],
   "source": [
    "RG = rg.PottsRenormalizationGroup(state_q = 2)"
   ]
  },
  {
   "cell_type": "code",
   "execution_count": null,
   "id": "63180ed8-32df-4c1c-93fc-89cbe3038022",
   "metadata": {},
   "outputs": [],
   "source": []
  }
 ],
 "metadata": {
  "kernelspec": {
   "display_name": "Python 3 (ipykernel)",
   "language": "python",
   "name": "python3"
  },
  "language_info": {
   "codemirror_mode": {
    "name": "ipython",
    "version": 3
   },
   "file_extension": ".py",
   "mimetype": "text/x-python",
   "name": "python",
   "nbconvert_exporter": "python",
   "pygments_lexer": "ipython3",
   "version": "3.12.2"
  }
 },
 "nbformat": 4,
 "nbformat_minor": 5
}
